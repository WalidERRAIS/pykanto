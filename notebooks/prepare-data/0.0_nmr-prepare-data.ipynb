{
 "nbformat": 4,
 "nbformat_minor": 2,
 "metadata": {
  "language_info": {
   "name": "python",
   "codemirror_mode": {
    "name": "ipython",
    "version": 3
   },
   "version": "3.6.10-final"
  },
  "orig_nbformat": 2,
  "file_extension": ".py",
  "mimetype": "text/x-python",
  "name": "python",
  "npconvert_exporter": "python",
  "pygments_lexer": "ipython3",
  "version": 3,
  "kernelspec": {
   "name": "python3",
   "display_name": "Python 3"
  }
 },
 "cells": [
  {
   "cell_type": "markdown",
   "metadata": {},
   "source": [
    "### 1.0 Prepare songs for analysis\n",
    "This notebook does the following:\n",
    " - Segments raw recordings into manually defined bouts\n",
    " - Applies a band-pass filter to reject frequencies outside the range\n",
    "\n",
    "### Define previous steps: \n",
    " - Copy full lenght recordings\n",
    " - Segment song bouts with AviaNZ\n",
    " - Segment into syllables with chipper"
   ]
  },
  {
   "cell_type": "code",
   "execution_count": 3,
   "metadata": {},
   "outputs": [
    {
     "name": "stdout",
     "output_type": "stream",
     "text": "The autoreload extension is already loaded. To reload it, use:\n  %reload_ext autoreload\n"
    }
   ],
   "source": [
    "# Reload modules automatically\n",
    "# to update edited src code\n",
    "%load_ext autoreload\n",
    "%autoreload 2"
   ]
  },
  {
   "cell_type": "code",
   "execution_count": null,
   "metadata": {},
   "outputs": [],
   "source": [
    "import numpy as np\n",
    "import src.dataread.paths as pth\n",
    "from src.audio import segmentation"
   ]
  },
  {
   "cell_type": "code",
   "execution_count": 16,
   "metadata": {},
   "outputs": [
    {
     "data": {
      "text/plain": "(1,\n array([PosixPath('/home/nilomr/projects/00_gtit/data/200212-004.wav')],\n       dtype=object))"
     },
     "execution_count": 16,
     "metadata": {},
     "output_type": "execute_result"
    }
   ],
   "source": [
    "filelist = list(pth.DATA_PATH.glob('*.wav')) # modify to include real path to raw files. Eg: 'wav_list = list(DSLOC.glob('Bird*/Wave/*.wav'))'\n",
    "len(filelist), np.sort(filelist)\n"
   ]
  },
  {
   "cell_type": "code",
   "execution_count": 25,
   "metadata": {},
   "outputs": [
    {
     "data": {
      "text/plain": "PosixPath('/home/nilomr/projects/00_gtit')"
     },
     "execution_count": 25,
     "metadata": {},
     "output_type": "execute_result"
    }
   ],
   "source": [
    "test_audio = pydub.AudioSegment.from_wav(\"/home/nilomr/Music/trimmed.wav\")\n",
    "test_audio_bandpass = band_pass_filter(test_audio, 2500, 9000, order = 12)\n",
    "test_audio_bandpass.export(\"/home/nilomr/Music/bandpassed.wav\", format = \"wav\")"
   ]
  },
  {
   "cell_type": "code",
   "execution_count": 24,
   "metadata": {},
   "outputs": [
    {
     "name": "stdout",
     "output_type": "stream",
     "text": "shite2!\n"
    }
   ],
   "source": [
    "print(shite)"
   ]
  },
  {
   "cell_type": "code",
   "execution_count": null,
   "metadata": {},
   "outputs": [],
   "source": []
  }
 ]
}