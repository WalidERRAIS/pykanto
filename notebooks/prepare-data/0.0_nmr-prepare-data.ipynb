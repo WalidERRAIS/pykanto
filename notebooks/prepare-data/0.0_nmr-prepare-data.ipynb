{
 "nbformat": 4,
 "nbformat_minor": 2,
 "metadata": {
  "language_info": {
   "name": "python",
   "codemirror_mode": {
    "name": "ipython",
    "version": 3
   },
   "version": "3.6.10-final"
  },
  "orig_nbformat": 2,
  "file_extension": ".py",
  "mimetype": "text/x-python",
  "name": "python",
  "npconvert_exporter": "python",
  "pygments_lexer": "ipython3",
  "version": 3,
  "kernelspec": {
   "name": "python3",
   "display_name": "Python 3"
  }
 },
 "cells": [
  {
   "cell_type": "markdown",
   "metadata": {},
   "source": [
    "### 1.0 Prepare songs for analysis\n",
    "This notebook does the following:\n",
    " - Segments raw recordings into manually defined bouts\n",
    " - Applies a band-pass filter to reject frequencies outside the range\n",
    "\n",
    "### Define previous steps: \n",
    " - Copy full lenght recordings\n",
    " - Segment song bouts with AviaNZ\n",
    " - Segment into syllables with chipper"
   ]
  },
  {
   "cell_type": "code",
   "execution_count": 2,
   "metadata": {},
   "outputs": [
    {
     "output_type": "stream",
     "name": "stdout",
     "text": "The autoreload extension is already loaded. To reload it, use:\n  %reload_ext autoreload\n"
    }
   ],
   "source": [
    "# Reload modules automatically\n",
    "# to update edited src code\n",
    "%load_ext autoreload\n",
    "%autoreload 2"
   ]
  },
  {
   "cell_type": "code",
   "execution_count": 7,
   "metadata": {},
   "outputs": [],
   "source": [
    "import numpy as np\n",
    "import src.read.paths as pth\n",
    "from src.audio import segmentation"
   ]
  },
  {
   "cell_type": "code",
   "execution_count": 11,
   "metadata": {},
   "outputs": [
    {
     "output_type": "execute_result",
     "data": {
      "text/plain": "(36,\n array([PosixPath('/home/nilomr/projects/0.0_great-tit-song/data/raw/00_bagley/2020-01-25_000.wav'),\n        PosixPath('/home/nilomr/projects/0.0_great-tit-song/data/raw/00_bagley/2020-01-25_001.wav'),\n        PosixPath('/home/nilomr/projects/0.0_great-tit-song/data/raw/00_bagley/2020-01-25_002.wav'),\n        PosixPath('/home/nilomr/projects/0.0_great-tit-song/data/raw/00_bagley/2020-01-25_003.wav'),\n        PosixPath('/home/nilomr/projects/0.0_great-tit-song/data/raw/00_bagley/2020-02-02_000.wav'),\n        PosixPath('/home/nilomr/projects/0.0_great-tit-song/data/raw/00_bagley/2020-02-02_001.wav'),\n        PosixPath('/home/nilomr/projects/0.0_great-tit-song/data/raw/00_bagley/2020-02-02_002.wav'),\n        PosixPath('/home/nilomr/projects/0.0_great-tit-song/data/raw/00_bagley/2020-02-12_000.wav'),\n        PosixPath('/home/nilomr/projects/0.0_great-tit-song/data/raw/00_bagley/2020-02-12_001.wav'),\n        PosixPath('/home/nilomr/projects/0.0_great-tit-song/data/raw/00_bagley/2020-02-12_002.wav'),\n        PosixPath('/home/nilomr/projects/0.0_great-tit-song/data/raw/00_bagley/2020-02-12_003.wav'),\n        PosixPath('/home/nilomr/projects/0.0_great-tit-song/data/raw/00_bagley/2020-02-12_004.wav'),\n        PosixPath('/home/nilomr/projects/0.0_great-tit-song/data/raw/00_bagley/2020-02-12_005.wav'),\n        PosixPath('/home/nilomr/projects/0.0_great-tit-song/data/raw/00_bagley/2020-02-12_006.wav'),\n        PosixPath('/home/nilomr/projects/0.0_great-tit-song/data/raw/00_bagley/2020-02-12_007.wav'),\n        PosixPath('/home/nilomr/projects/0.0_great-tit-song/data/raw/00_bagley/2020-02-25_000.wav'),\n        PosixPath('/home/nilomr/projects/0.0_great-tit-song/data/raw/00_bagley/2020-02-25_001.wav'),\n        PosixPath('/home/nilomr/projects/0.0_great-tit-song/data/raw/00_bagley/2020-02-25_002.wav'),\n        PosixPath('/home/nilomr/projects/0.0_great-tit-song/data/raw/00_bagley/2020-02-25_003.wav'),\n        PosixPath('/home/nilomr/projects/0.0_great-tit-song/data/raw/00_bagley/2020-02-25_004.wav'),\n        PosixPath('/home/nilomr/projects/0.0_great-tit-song/data/raw/00_bagley/2020-02-25_005.wav'),\n        PosixPath('/home/nilomr/projects/0.0_great-tit-song/data/raw/00_bagley/2020-02-26_000.wav'),\n        PosixPath('/home/nilomr/projects/0.0_great-tit-song/data/raw/00_bagley/2020-02-26_001.wav'),\n        PosixPath('/home/nilomr/projects/0.0_great-tit-song/data/raw/00_bagley/2020-02-26_002.wav'),\n        PosixPath('/home/nilomr/projects/0.0_great-tit-song/data/raw/00_bagley/2020-02-26_003.wav'),\n        PosixPath('/home/nilomr/projects/0.0_great-tit-song/data/raw/00_bagley/2020-02-26_004.wav'),\n        PosixPath('/home/nilomr/projects/0.0_great-tit-song/data/raw/00_bagley/2020-02-26_005.wav'),\n        PosixPath('/home/nilomr/projects/0.0_great-tit-song/data/raw/00_bagley/2020-02-26_006.wav'),\n        PosixPath('/home/nilomr/projects/0.0_great-tit-song/data/raw/00_bagley/2020-02-26_007.wav'),\n        PosixPath('/home/nilomr/projects/0.0_great-tit-song/data/raw/00_bagley/2020-02-26_008.wav'),\n        PosixPath('/home/nilomr/projects/0.0_great-tit-song/data/raw/00_bagley/2020-02-26_009.wav'),\n        PosixPath('/home/nilomr/projects/0.0_great-tit-song/data/raw/00_bagley/2020-02-26_010.wav'),\n        PosixPath('/home/nilomr/projects/0.0_great-tit-song/data/raw/00_bagley/2020-02-26_011.wav'),\n        PosixPath('/home/nilomr/projects/0.0_great-tit-song/data/raw/00_bagley/2020-02-26_012.wav'),\n        PosixPath('/home/nilomr/projects/0.0_great-tit-song/data/raw/00_bagley/2020-02-26_013.wav'),\n        PosixPath('/home/nilomr/projects/0.0_great-tit-song/data/raw/00_bagley/2020-02-26_014.wav')],\n       dtype=object))"
     },
     "metadata": {},
     "execution_count": 11
    }
   ],
   "source": [
    "filelist = list(pth.DATA_PATH.glob('raw/*/*.wav')) # modify to include real path to raw files. Eg: 'wav_list = list(DSLOC.glob('Bird*/Wave/*.wav'))'\n",
    "len(filelist), np.sort(filelist)\n",
    ""
   ]
  },
  {
   "cell_type": "code",
   "execution_count": 25,
   "metadata": {},
   "outputs": [
    {
     "data": {
      "text/plain": "PosixPath('/home/nilomr/projects/00_gtit')"
     },
     "execution_count": 25,
     "metadata": {},
     "output_type": "execute_result"
    }
   ],
   "source": [
    "test_audio = pydub.AudioSegment.from_wav(\"/home/nilomr/Music/trimmed.wav\")\n",
    "test_audio_bandpass = band_pass_filter(test_audio, 2500, 9000, order = 12)\n",
    "test_audio_bandpass.export(\"/home/nilomr/Music/bandpassed.wav\", format = \"wav\")"
   ]
  },
  {
   "cell_type": "code",
   "execution_count": 24,
   "metadata": {},
   "outputs": [
    {
     "name": "stdout",
     "output_type": "stream",
     "text": "shite2!\n"
    }
   ],
   "source": [
    "print(shite)"
   ]
  },
  {
   "cell_type": "code",
   "execution_count": null,
   "metadata": {},
   "outputs": [],
   "source": []
  }
 ]
}