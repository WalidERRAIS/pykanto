{
 "cells": [
  {
   "cell_type": "markdown",
   "metadata": {},
   "source": [
    "### 1.0 Prepare songs for analysis\n",
    "This notebook does the following:\n",
    " - Segments raw recordings into manually defined bouts\n",
    " - Applies a band-pass filter to reject frequencies outside a given range\n",
    "\n",
    "### You need to define previous steps: \n",
    " - Copy full lenght recordings\n",
    " - Segment song bouts with AviaNZ\n",
    " - Segment into syllables with chipper"
   ]
  },
  {
   "cell_type": "code",
   "execution_count": 6,
   "metadata": {},
   "outputs": [
    {
     "output_type": "stream",
     "name": "stdout",
     "text": "The autoreload extension is already loaded. To reload it, use:\n  %reload_ext autoreload\n"
    }
   ],
   "source": [
    "# Reload modules automatically\n",
    "# to update edited src code\n",
    "%load_ext autoreload\n",
    "%autoreload 2"
   ]
  },
  {
   "cell_type": "code",
   "execution_count": 105,
   "metadata": {},
   "outputs": [],
   "source": [
    "import numpy as np\n",
    "import pandas as pd\n",
    "import src\n",
    "\n",
    "from src.read.paths import DATA_PATH\n",
    "from src.audio.segmentation import *\n",
    "from IPython.display import display, HTML, display_html"
   ]
  },
  {
   "cell_type": "code",
   "execution_count": 11,
   "metadata": {},
   "outputs": [
    {
     "output_type": "execute_result",
     "data": {
      "text/plain": "PosixPath('/home/nilomr/projects/0.0_great-tit-song/data')"
     },
     "metadata": {},
     "execution_count": 11
    }
   ],
   "source": [
    "DATA_PATH"
   ]
  },
  {
   "cell_type": "code",
   "execution_count": null,
   "metadata": {},
   "outputs": [],
   "source": []
  },
  {
   "cell_type": "code",
   "execution_count": 107,
   "metadata": {
    "tags": [
     "outputPrepend"
    ]
   },
   "outputs": [
    {
     "output_type": "display_data",
     "data": {
      "text/plain": "                                                                                    0\n0     /home/nilomr/projects/0.0_great-tit-song/data/raw/2020/B100/20200418_040000.WAV\n1     /home/nilomr/projects/0.0_great-tit-song/data/raw/2020/B100/20200418_050000.WAV\n...                                                                               ...\n6669  /home/nilomr/projects/0.0_great-tit-song/data/raw/2020/W99A/20200427_080000.WAV\n6670  /home/nilomr/projects/0.0_great-tit-song/data/raw/2020/W99A/20200427_090000.WAV\n\n[6671 rows x 1 columns]",
      "text/html": "<div>\n<style scoped>\n    .dataframe tbody tr th:only-of-type {\n        vertical-align: middle;\n    }\n\n    .dataframe tbody tr th {\n        vertical-align: top;\n    }\n\n    .dataframe thead th {\n        text-align: right;\n    }\n</style>\n<table border=\"1\" class=\"dataframe\">\n  <thead>\n    <tr style=\"text-align: right;\">\n      <th></th>\n      <th>0</th>\n    </tr>\n  </thead>\n  <tbody>\n    <tr>\n      <th>0</th>\n      <td>/home/nilomr/projects/0.0_great-tit-song/data/raw/2020/B100/20200418_040000.WAV</td>\n    </tr>\n    <tr>\n      <th>1</th>\n      <td>/home/nilomr/projects/0.0_great-tit-song/data/raw/2020/B100/20200418_050000.WAV</td>\n    </tr>\n    <tr>\n      <th>...</th>\n      <td>...</td>\n    </tr>\n    <tr>\n      <th>6669</th>\n      <td>/home/nilomr/projects/0.0_great-tit-song/data/raw/2020/W99A/20200427_080000.WAV</td>\n    </tr>\n    <tr>\n      <th>6670</th>\n      <td>/home/nilomr/projects/0.0_great-tit-song/data/raw/2020/W99A/20200427_090000.WAV</td>\n    </tr>\n  </tbody>\n</table>\n<p>6671 rows × 1 columns</p>\n</div>"
     },
     "metadata": {}
    },
    {
     "output_type": "display_data",
     "data": {
      "text/plain": "        0\n0    CP2 \n1    C143\n..    ...\n282  MP48\n283  MP82\n\n[284 rows x 1 columns]",
      "text/html": "<div>\n<style scoped>\n    .dataframe tbody tr th:only-of-type {\n        vertical-align: middle;\n    }\n\n    .dataframe tbody tr th {\n        vertical-align: top;\n    }\n\n    .dataframe thead th {\n        text-align: right;\n    }\n</style>\n<table border=\"1\" class=\"dataframe\">\n  <thead>\n    <tr style=\"text-align: right;\">\n      <th></th>\n      <th>0</th>\n    </tr>\n  </thead>\n  <tbody>\n    <tr>\n      <th>0</th>\n      <td>CP2</td>\n    </tr>\n    <tr>\n      <th>1</th>\n      <td>C143</td>\n    </tr>\n    <tr>\n      <th>...</th>\n      <td>...</td>\n    </tr>\n    <tr>\n      <th>282</th>\n      <td>MP48</td>\n    </tr>\n    <tr>\n      <th>283</th>\n      <td>MP82</td>\n    </tr>\n  </tbody>\n</table>\n<p>284 rows × 1 columns</p>\n</div>"
     },
     "metadata": {}
    }
   ],
   "source": [
    "filelist = np.sort(list(DATA_PATH.glob('raw/2020/*/*.WAV')))\n",
    "nestboxes = pd.DataFrame(set([file.parent.name for file in filelist]))\n",
    "\n",
    "pd.set_option('display.max_colwidth', -1)\n",
    "\n",
    "display(pd.DataFrame(filelist),nestboxes)"
   ]
  },
  {
   "cell_type": "markdown",
   "metadata": {},
   "source": [
    "#### Segment all raw recordings into bouts\n",
    " - Bouts defined in AviaNZ\n",
    " - destination = high-level directory only, subdirectory structure is cloned from origin "
   ]
  },
  {
   "cell_type": "code",
   "execution_count": 33,
   "metadata": {},
   "outputs": [
    {
     "output_type": "stream",
     "name": "stderr",
     "text": "{Reading and saving segments}: 100%|██████████| 14/14 [00:00<00:00, 798.57it/s]\n{Reading and saving segments}: 100%|██████████| 86/86 [00:00<00:00, 882.23it/s]\n"
    }
   ],
   "source": [
    "origin = DATA_PATH / \"raw\" / \"2020\"\n",
    "destination = DATA_PATH / \"interim\"  # provide data/folder only, the rest is created automatically\n",
    "\n",
    "batch_segment_bouts(origin, destination)\n"
   ]
  },
  {
   "cell_type": "code",
   "execution_count": 25,
   "metadata": {},
   "outputs": [
    {
     "data": {
      "text/plain": "PosixPath('/home/nilomr/projects/00_gtit')"
     },
     "execution_count": 25,
     "metadata": {},
     "output_type": "execute_result"
    }
   ],
   "source": [
    "test_audio = pydub.AudioSegment.from_wav(\"/home/nilomr/Music/trimmed.wav\")\n",
    "test_audio_bandpass = band_pass_filter(test_audio, 2500, 9000, order = 12)\n",
    "test_audio_bandpass.export(\"/home/nilomr/Music/bandpassed.wav\", format = \"wav\")"
   ]
  },
  {
   "cell_type": "code",
   "execution_count": 24,
   "metadata": {},
   "outputs": [
    {
     "name": "stdout",
     "output_type": "stream",
     "text": "shite2!\n"
    }
   ],
   "source": [
    "print(shite)"
   ]
  },
  {
   "cell_type": "code",
   "execution_count": null,
   "metadata": {},
   "outputs": [],
   "source": []
  }
 ],
 "metadata": {
  "language_info": {
   "name": "python",
   "codemirror_mode": {
    "name": "ipython",
    "version": 3
   },
   "version": "3.6.10-final"
  },
  "orig_nbformat": 2,
  "file_extension": ".py",
  "mimetype": "text/x-python",
  "name": "python",
  "npconvert_exporter": "python",
  "pygments_lexer": "ipython3",
  "version": 3,
  "kernelspec": {
   "name": "python3",
   "display_name": "Python 3"
  }
 },
 "nbformat": 4,
 "nbformat_minor": 2
}