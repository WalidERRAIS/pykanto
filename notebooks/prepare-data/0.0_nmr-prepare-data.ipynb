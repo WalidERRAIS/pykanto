{
 "nbformat": 4,
 "nbformat_minor": 2,
 "metadata": {
  "language_info": {
   "name": "python",
   "codemirror_mode": {
    "name": "ipython",
    "version": 3
   },
   "version": "3.6.10-final"
  },
  "orig_nbformat": 2,
  "file_extension": ".py",
  "mimetype": "text/x-python",
  "name": "python",
  "npconvert_exporter": "python",
  "pygments_lexer": "ipython3",
  "version": 3,
  "kernelspec": {
   "name": "python3",
   "display_name": "Python 3"
  }
 },
 "cells": [
  {
   "cell_type": "markdown",
   "metadata": {},
   "source": [
    "### 1.0 Prepare songs for analysis\n",
    "This notebook does the following:\n",
    " - Segments raw recordings into manually defined bouts\n",
    " - Applies a band-pass filter to reject frequencies outside the range\n",
    "\n",
    "### Define previous steps: \n",
    " - Copy full lenght recordings\n",
    " - Segment song bouts with AviaNZ\n",
    " - Segment into syllables with chipper"
   ]
  },
  {
   "cell_type": "code",
   "execution_count": 4,
   "metadata": {},
   "outputs": [
    {
     "output_type": "stream",
     "name": "stdout",
     "text": "The autoreload extension is already loaded. To reload it, use:\n  %reload_ext autoreload\n"
    }
   ],
   "source": [
    "# Reload modules automatically\n",
    "# to update edited src code\n",
    "%load_ext autoreload\n",
    "%autoreload 2"
   ]
  },
  {
   "cell_type": "code",
   "execution_count": 5,
   "metadata": {},
   "outputs": [],
   "source": [
    "import numpy as np\n",
    "import src\n",
    "\n",
    "from src.read.paths import DATA_PATH\n",
    "from src.audio.segmentation import segment_bouts_batch"
   ]
  },
  {
   "cell_type": "code",
   "execution_count": 7,
   "metadata": {},
   "outputs": [
    {
     "output_type": "execute_result",
     "data": {
      "text/plain": "PosixPath('/home/nilomr/projects/0.0_great-tit-song/data')"
     },
     "metadata": {},
     "execution_count": 7
    }
   ],
   "source": [
    "DATA_PATH"
   ]
  },
  {
   "cell_type": "code",
   "execution_count": 4,
   "metadata": {},
   "outputs": [
    {
     "output_type": "execute_result",
     "data": {
      "text/plain": "(6,\n array([PosixPath('/home/nilomr/projects/0.0_great-tit-song/data/raw/2020/W100/20200326_180000.WAV'),\n        PosixPath('/home/nilomr/projects/0.0_great-tit-song/data/raw/2020/W100/20200327_040000.WAV'),\n        PosixPath('/home/nilomr/projects/0.0_great-tit-song/data/raw/2020/W100/20200327_180000.WAV'),\n        PosixPath('/home/nilomr/projects/0.0_great-tit-song/data/raw/2020/W100/20200328_040000.WAV'),\n        PosixPath('/home/nilomr/projects/0.0_great-tit-song/data/raw/2020/W100/20200328_180000.WAV'),\n        PosixPath('/home/nilomr/projects/0.0_great-tit-song/data/raw/2020/W100/20200329_040000.WAV')],\n       dtype=object))"
     },
     "metadata": {},
     "execution_count": 4
    }
   ],
   "source": [
    "filelist = list(DATA_PATH.glob('raw/2020/W100/*.WAV'))\n",
    "len(filelist), np.sort(filelist)\n",
    "\n",
    ""
   ]
  },
  {
   "cell_type": "code",
   "execution_count": 96,
   "metadata": {},
   "outputs": [
    {
     "output_type": "execute_result",
     "data": {
      "text/plain": "(0, array([], dtype=float64))"
     },
     "metadata": {},
     "execution_count": 96
    }
   ],
   "source": [
    "filelist = list(DATA_PATH.glob('raw/2020/*/*.WAV')) # modify to include real path to raw files. Eg: 'wav_list = list(DSLOC.glob('Bird*/Wave/*.wav'))'\n",
    "len(filelist), np.sort(filelist)\n"
   ]
  },
  {
   "cell_type": "code",
   "execution_count": 6,
   "metadata": {},
   "outputs": [
    {
     "output_type": "stream",
     "name": "stderr",
     "text": "{Reading files}: 0it [00:00, ?it/s]\n{Reading and saving segments}: 100%|██████████| 14/14 [00:00<00:00, 852.55it/s]\n{Reading and saving segments}: 100%|██████████| 86/86 [00:00<00:00, 1034.65it/s]\n{Reading files}: 100%|██████████| 9/9 [00:01<00:00,  8.27it/s]\n"
    }
   ],
   "source": [
    "origin = DATA_PATH / \"raw\" / \"2020\"\n",
    "destination = DATA_PATH / \"interim\"  # data/whichfolder only\n",
    "\n",
    "segment_bouts_batch(origin, destination)\n",
    ""
   ]
  },
  {
   "cell_type": "code",
   "execution_count": 25,
   "metadata": {},
   "outputs": [
    {
     "data": {
      "text/plain": "PosixPath('/home/nilomr/projects/00_gtit')"
     },
     "execution_count": 25,
     "metadata": {},
     "output_type": "execute_result"
    }
   ],
   "source": [
    "test_audio = pydub.AudioSegment.from_wav(\"/home/nilomr/Music/trimmed.wav\")\n",
    "test_audio_bandpass = band_pass_filter(test_audio, 2500, 9000, order = 12)\n",
    "test_audio_bandpass.export(\"/home/nilomr/Music/bandpassed.wav\", format = \"wav\")"
   ]
  },
  {
   "cell_type": "code",
   "execution_count": 24,
   "metadata": {},
   "outputs": [
    {
     "name": "stdout",
     "output_type": "stream",
     "text": "shite2!\n"
    }
   ],
   "source": [
    "print(shite)"
   ]
  },
  {
   "cell_type": "code",
   "execution_count": null,
   "metadata": {},
   "outputs": [],
   "source": []
  }
 ]
}