{
 "cells": [
  {
   "cell_type": "markdown",
   "metadata": {},
   "source": [
    "## 0.2 Project dataset\n",
    "\n",
    "\n",
    "### This notebook does the following:\n",
    " - Segments songs into individual syllables\n",
    " - Creates spectrograms for each syllables\n",
    " - Saves a dataset to be used in furhter analyses\n",
    " "
   ]
  },
  {
   "cell_type": "code",
   "execution_count": 1,
   "metadata": {
    "tags": []
   },
   "outputs": [],
   "source": [
    "# Reload modules automatically\n",
    "%load_ext autoreload\n",
    "%autoreload 2"
   ]
  },
  {
   "cell_type": "code",
   "execution_count": 2,
   "metadata": {
    "tags": []
   },
   "outputs": [],
   "source": [
    "import pandas as pd\n",
    "import numpy as np\n",
    "import matplotlib.pyplot as plt\n",
    "%matplotlib inline\n",
    "\n",
    "import librosa\n",
    "import src\n",
    "\n",
    "from tqdm.autonotebook import tqdm\n",
    "from joblib import Parallel, delayed\n",
    "\n",
    "from src.greti.read.paths import DATA_DIR\n",
    "from src.avgn.utils.paths import most_recent_subdirectory, ensure_dir\n",
    "from src.avgn.utils.hparams import HParams\n",
    "from src.avgn.dataset import DataSet\n",
    "from src.avgn.signalprocessing.create_spectrogram_dataset import *\n",
    "\n",
    "from src.avgn.visualization.spectrogram import draw_spec_set\n",
    "from src.avgn.visualization.projections import (\n",
    "    scatter_spec,\n",
    "    scatter_projections,\n",
    "    draw_projection_transitions,\n",
    ")\n",
    "from src.avgn.visualization.quickplots import draw_projection_plots\n",
    "import umap\n"
   ]
  },
  {
   "cell_type": "markdown",
   "metadata": {},
   "source": [
    "### Import syllable dataset\n",
    "> Use output of the previous notebook (save_loc)"
   ]
  },
  {
   "cell_type": "code",
   "execution_count": 4,
   "metadata": {
    "tags": []
   },
   "outputs": [],
   "source": [
    "# Which dataset?\n",
    "DATASET_ID = 'GRETI_HQ_2020_segmented'\n",
    "\n",
    "save_loc = DATA_DIR / \"syllable_dfs\" / DATASET_ID / \"{}.pickle\".format(DATASET_ID)\n",
    "\n",
    "syllable_df = pd.read_pickle(save_loc)\n",
    "\n",
    "ensure_dir(DATA_DIR / \"embeddings\" / DATASET_ID)"
   ]
  },
  {
   "cell_type": "code",
   "execution_count": 4,
   "metadata": {
    "tags": []
   },
   "outputs": [
    {
     "output_type": "stream",
     "name": "stderr",
     "text": "loading json:   0%|          | 0/747 [00:00<?, ?it/s][Parallel(n_jobs=-2)]: Using backend LokyBackend with 7 concurrent workers.\nloading json:   3%|▎         | 21/747 [00:02<01:41,  7.16it/s][Parallel(n_jobs=-2)]: Done  36 tasks      | elapsed:    2.9s\nloading json: 100%|██████████| 747/747 [00:03<00:00, 245.10it/s]\n[Parallel(n_jobs=-2)]: Done 747 out of 747 | elapsed:    3.1s finished\ngetting unique individuals:   0%|          | 0/747 [00:00<?, ?it/s]"
    },
    {
     "output_type": "execute_result",
     "data": {
      "text/plain": "747"
     },
     "metadata": {},
     "execution_count": 4
    }
   ],
   "source": [
    "# Save dataframe with embeddings for each bird\n",
    "ensure_dir(DATA_DIR / \"embeddings\" / DATASET_ID)\n",
    "\n",
    "for indv in tqdm(syllable_df.indv.unique()):\n",
    "    subset_df = syllable_df[syllable_df.indv == indv]\n",
    "\n",
    "    specs = list(subset_df.spectrogram.values)\n",
    "    specs = [i / np.max(i) for i in tqdm(specs)]\n",
    "    specs_flattened = flatten_spectrograms(specs)\n",
    "    print(np.shape(specs_flattened))\n",
    "\n",
    "    fit = umap.UMAP(min_dist=0.20)\n",
    "    embedding = fit.fit_transform(specs_flattened)\n",
    "    subset_df[\"umap\"] = list(embedding)\n",
    "    subset_df.to_pickle(DATA_DIR / \"embeddings\" / DATASET_ID / (indv + \".pickle\"))\n"
   ]
  }
 ],
 "metadata": {
  "language_info": {
   "name": "python",
   "codemirror_mode": {
    "name": "ipython",
    "version": 3
   },
   "version": "3.6.10-final"
  },
  "orig_nbformat": 2,
  "file_extension": ".py",
  "mimetype": "text/x-python",
  "name": "python",
  "npconvert_exporter": "python",
  "pygments_lexer": "ipython3",
  "version": 3,
  "kernelspec": {
   "name": "python_defaultSpec_1599718728670",
   "display_name": "Python 3.6.10 64-bit ('0.2_great-tit-song-ml': conda)"
  }
 },
 "nbformat": 4,
 "nbformat_minor": 2
}