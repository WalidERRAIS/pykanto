{
    "cells": [
        {
            "cell_type": "markdown",
            "metadata": {},
            "source": [
                "# Basic workflow"
            ]
        },
        {
            "cell_type": "code",
            "execution_count": 7,
            "metadata": {
                "tags": [
                    "hide-output"
                ]
            },
            "outputs": [],
            "source": [
                "from pykanto.utils.paths import pykanto_data\n",
                "from pykanto.dataset import KantoData\n",
                "from pykanto.parameters import Parameters"
            ]
        },
        {
            "cell_type": "markdown",
            "metadata": {},
            "source": [
                "We are going to load one of the diminutive datasets that are packaged with `pykanto`—this will be enough to check that everything is working as it should and to familiarise yourself with the package. See [project setup](./project-setup.md) to learn how to load your own data.\n",
                "\n",
                "The `GREAT_TIT` dataset consists of a few songs from two male great tits (_Parus major_) in [my study population](http://wythamtits.com/), Wytham Woods, Oxfordshire, UK. Let's load the paths pointing to it and create a `KantoData` object:"
            ]
        },
        {
            "cell_type": "code",
            "execution_count": 2,
            "metadata": {
                "tags": [
                    "hide-output"
                ]
            },
            "outputs": [
                {
                    "data": {
                        "application/vnd.jupyter.widget-view+json": {
                            "model_id": "f8c428a05a1043d5a3075fd1091ec494",
                            "version_major": 2,
                            "version_minor": 0
                        },
                        "text/plain": [
                            "Loading JSON files:   0%|          | 0/20 [00:00<?, ?it/s]"
                        ]
                    },
                    "metadata": {},
                    "output_type": "display_data"
                },
                {
                    "name": "stderr",
                    "output_type": "stream",
                    "text": [
                        "2022-05-04 15:53:09,978\tINFO services.py:1456 -- View the Ray dashboard at \u001b[1m\u001b[32mhttp://127.0.0.1:8265\u001b[39m\u001b[22m\n"
                    ]
                },
                {
                    "data": {
                        "application/vnd.jupyter.widget-view+json": {
                            "model_id": "eab8bd0335894eb4a1ba48d9618ad8b5",
                            "version_major": 2,
                            "version_minor": 0
                        },
                        "text/plain": [
                            "Preparing spectrograms:   0%|          | 0/11 [00:00<?, ?it/s]"
                        ]
                    },
                    "metadata": {},
                    "output_type": "display_data"
                },
                {
                    "name": "stdout",
                    "output_type": "stream",
                    "text": [
                        "Done\n"
                    ]
                },
                {
                    "data": {
                        "text/html": [
                            "<div>\n",
                            "<style scoped>\n",
                            "    .dataframe tbody tr th:only-of-type {\n",
                            "        vertical-align: middle;\n",
                            "    }\n",
                            "\n",
                            "    .dataframe tbody tr th {\n",
                            "        vertical-align: top;\n",
                            "    }\n",
                            "\n",
                            "    .dataframe thead th {\n",
                            "        text-align: right;\n",
                            "    }\n",
                            "</style>\n",
                            "<table border=\"1\" class=\"dataframe\">\n",
                            "  <thead>\n",
                            "    <tr style=\"text-align: right;\">\n",
                            "      <th></th>\n",
                            "      <th>species</th>\n",
                            "      <th>ID</th>\n",
                            "      <th>label</th>\n",
                            "      <th>recorder</th>\n",
                            "      <th>recordist</th>\n",
                            "      <th>source_datetime</th>\n",
                            "      <th>datetime</th>\n",
                            "      <th>date</th>\n",
                            "      <th>time</th>\n",
                            "      <th>timezone</th>\n",
                            "      <th>...</th>\n",
                            "      <th>length_s</th>\n",
                            "      <th>lower_freq</th>\n",
                            "      <th>upper_freq</th>\n",
                            "      <th>max_amplitude</th>\n",
                            "      <th>min_amplitude</th>\n",
                            "      <th>bit_depth</th>\n",
                            "      <th>tech_comment</th>\n",
                            "      <th>source_wav</th>\n",
                            "      <th>wav_file</th>\n",
                            "      <th>spectrogram_loc</th>\n",
                            "    </tr>\n",
                            "  </thead>\n",
                            "  <tbody>\n",
                            "    <tr>\n",
                            "      <th>2021-B32-0415_05-11</th>\n",
                            "      <td>Great tit</td>\n",
                            "      <td>SW83</td>\n",
                            "      <td>VOCALISATION</td>\n",
                            "      <td>24F319055FDF2205</td>\n",
                            "      <td>Nilo Merino Recalde</td>\n",
                            "      <td>2021-04-15 05:00:00</td>\n",
                            "      <td>2021-04-15 05:07:22.866667</td>\n",
                            "      <td>2021-04-15</td>\n",
                            "      <td>05:07:22.866667</td>\n",
                            "      <td>UTC</td>\n",
                            "      <td>...</td>\n",
                            "      <td>1.139250</td>\n",
                            "      <td>2506</td>\n",
                            "      <td>5922</td>\n",
                            "      <td>0.673711</td>\n",
                            "      <td>-0.666701</td>\n",
                            "      <td>16</td>\n",
                            "      <td>Recorded at 05:00:00 15/04/2021 (UTC) by Audio...</td>\n",
                            "      <td>/home/nilomr/projects/great-tit-song/data/raw/...</td>\n",
                            "      <td>/home/nilomr/projects/pykanto/pykanto/data/seg...</td>\n",
                            "      <td>/home/nilomr/miniconda3/envs/pykanto-dev/lib/p...</td>\n",
                            "    </tr>\n",
                            "    <tr>\n",
                            "      <th>2021-B32-0415_05-15</th>\n",
                            "      <td>Great tit</td>\n",
                            "      <td>SW83</td>\n",
                            "      <td>VOCALISATION</td>\n",
                            "      <td>24F319055FDF2205</td>\n",
                            "      <td>Nilo Merino Recalde</td>\n",
                            "      <td>2021-04-15 05:00:00</td>\n",
                            "      <td>2021-04-15 05:08:16.520000</td>\n",
                            "      <td>2021-04-15</td>\n",
                            "      <td>05:08:16.520000</td>\n",
                            "      <td>UTC</td>\n",
                            "      <td>...</td>\n",
                            "      <td>1.194375</td>\n",
                            "      <td>2392</td>\n",
                            "      <td>5694</td>\n",
                            "      <td>0.356706</td>\n",
                            "      <td>-0.351275</td>\n",
                            "      <td>16</td>\n",
                            "      <td>Recorded at 05:00:00 15/04/2021 (UTC) by Audio...</td>\n",
                            "      <td>/home/nilomr/projects/great-tit-song/data/raw/...</td>\n",
                            "      <td>/home/nilomr/projects/pykanto/pykanto/data/seg...</td>\n",
                            "      <td>/home/nilomr/miniconda3/envs/pykanto-dev/lib/p...</td>\n",
                            "    </tr>\n",
                            "    <tr>\n",
                            "      <th>2021-B32-0415_05-21</th>\n",
                            "      <td>Great tit</td>\n",
                            "      <td>SW83</td>\n",
                            "      <td>VOCALISATION</td>\n",
                            "      <td>24F319055FDF2205</td>\n",
                            "      <td>Nilo Merino Recalde</td>\n",
                            "      <td>2021-04-15 05:00:00</td>\n",
                            "      <td>2021-04-15 05:09:27.600000</td>\n",
                            "      <td>2021-04-15</td>\n",
                            "      <td>05:09:27.600000</td>\n",
                            "      <td>UTC</td>\n",
                            "      <td>...</td>\n",
                            "      <td>1.188250</td>\n",
                            "      <td>2392</td>\n",
                            "      <td>5739</td>\n",
                            "      <td>0.189776</td>\n",
                            "      <td>-0.188388</td>\n",
                            "      <td>16</td>\n",
                            "      <td>Recorded at 05:00:00 15/04/2021 (UTC) by Audio...</td>\n",
                            "      <td>/home/nilomr/projects/great-tit-song/data/raw/...</td>\n",
                            "      <td>/home/nilomr/projects/pykanto/pykanto/data/seg...</td>\n",
                            "      <td>/home/nilomr/miniconda3/envs/pykanto-dev/lib/p...</td>\n",
                            "    </tr>\n",
                            "  </tbody>\n",
                            "</table>\n",
                            "<p>3 rows × 21 columns</p>\n",
                            "</div>"
                        ],
                        "text/plain": [
                            "                       species    ID         label          recorder  \\\n",
                            "2021-B32-0415_05-11  Great tit  SW83  VOCALISATION  24F319055FDF2205   \n",
                            "2021-B32-0415_05-15  Great tit  SW83  VOCALISATION  24F319055FDF2205   \n",
                            "2021-B32-0415_05-21  Great tit  SW83  VOCALISATION  24F319055FDF2205   \n",
                            "\n",
                            "                               recordist      source_datetime  \\\n",
                            "2021-B32-0415_05-11  Nilo Merino Recalde  2021-04-15 05:00:00   \n",
                            "2021-B32-0415_05-15  Nilo Merino Recalde  2021-04-15 05:00:00   \n",
                            "2021-B32-0415_05-21  Nilo Merino Recalde  2021-04-15 05:00:00   \n",
                            "\n",
                            "                                       datetime        date             time  \\\n",
                            "2021-B32-0415_05-11  2021-04-15 05:07:22.866667  2021-04-15  05:07:22.866667   \n",
                            "2021-B32-0415_05-15  2021-04-15 05:08:16.520000  2021-04-15  05:08:16.520000   \n",
                            "2021-B32-0415_05-21  2021-04-15 05:09:27.600000  2021-04-15  05:09:27.600000   \n",
                            "\n",
                            "                    timezone  ...  length_s  lower_freq  upper_freq  \\\n",
                            "2021-B32-0415_05-11      UTC  ...  1.139250        2506        5922   \n",
                            "2021-B32-0415_05-15      UTC  ...  1.194375        2392        5694   \n",
                            "2021-B32-0415_05-21      UTC  ...  1.188250        2392        5739   \n",
                            "\n",
                            "                     max_amplitude  min_amplitude  bit_depth  \\\n",
                            "2021-B32-0415_05-11       0.673711      -0.666701         16   \n",
                            "2021-B32-0415_05-15       0.356706      -0.351275         16   \n",
                            "2021-B32-0415_05-21       0.189776      -0.188388         16   \n",
                            "\n",
                            "                                                          tech_comment  \\\n",
                            "2021-B32-0415_05-11  Recorded at 05:00:00 15/04/2021 (UTC) by Audio...   \n",
                            "2021-B32-0415_05-15  Recorded at 05:00:00 15/04/2021 (UTC) by Audio...   \n",
                            "2021-B32-0415_05-21  Recorded at 05:00:00 15/04/2021 (UTC) by Audio...   \n",
                            "\n",
                            "                                                            source_wav  \\\n",
                            "2021-B32-0415_05-11  /home/nilomr/projects/great-tit-song/data/raw/...   \n",
                            "2021-B32-0415_05-15  /home/nilomr/projects/great-tit-song/data/raw/...   \n",
                            "2021-B32-0415_05-21  /home/nilomr/projects/great-tit-song/data/raw/...   \n",
                            "\n",
                            "                                                              wav_file  \\\n",
                            "2021-B32-0415_05-11  /home/nilomr/projects/pykanto/pykanto/data/seg...   \n",
                            "2021-B32-0415_05-15  /home/nilomr/projects/pykanto/pykanto/data/seg...   \n",
                            "2021-B32-0415_05-21  /home/nilomr/projects/pykanto/pykanto/data/seg...   \n",
                            "\n",
                            "                                                       spectrogram_loc  \n",
                            "2021-B32-0415_05-11  /home/nilomr/miniconda3/envs/pykanto-dev/lib/p...  \n",
                            "2021-B32-0415_05-15  /home/nilomr/miniconda3/envs/pykanto-dev/lib/p...  \n",
                            "2021-B32-0415_05-21  /home/nilomr/miniconda3/envs/pykanto-dev/lib/p...  \n",
                            "\n",
                            "[3 rows x 21 columns]"
                        ]
                    },
                    "execution_count": 2,
                    "metadata": {},
                    "output_type": "execute_result"
                }
            ],
            "source": [
                "DATASET_ID = \"GREAT_TIT\"\n",
                "DIRS = pykanto_data(dataset=DATASET_ID)\n",
                "# ---------\n",
                "params = Parameters() # Using default parameters for simplicity, which you should't!\n",
                "dataset = KantoData(DATASET_ID, DIRS, parameters=params, overwrite_dataset=True)\n",
                "dataset.vocs.head(3)"
            ]
        },
        {
            "cell_type": "markdown",
            "metadata": {},
            "source": [
                "```{admonition} Tip: using an IDE\n",
                ":class: tip, dropdown\n",
                "\n",
                "If you don't already I highly recommend that you use an IDE to write and run your code, such as [vscode](https://code.visualstudio.com/) or [PyCharm](https://www.jetbrains.com/pycharm/). Among many other benefits, you will be able to see the documentation for each function in `pykanto` on hover:\n",
                "\n",
                "![IDE](../custom/IDE_example.png)\n",
                "\n",
                "```"
            ]
        },
        {
            "cell_type": "markdown",
            "metadata": {
                "tags": [
                    "hide-output"
                ]
            },
            "source": [
                "We now have an object `dataset`, which is an instance of the `KantoData` class and has all of its methods.\n",
                "\n",
                "```{admonition} Tip:\n",
                ":class: tip\n",
                "\n",
                "See [how to create and use a `KantoData` object](./kantodata-dataset.ipynb) for more details.\n",
                "```"
            ]
        },
        {
            "cell_type": "markdown",
            "metadata": {},
            "source": [
                "For example, you might want to segment your songs into discrete notes using `pykanto`'s algorithm, which is a simple amplitude-based method that works reasonably well (based on Tim Sainburg's [vocalseg](https://github.com/timsainb/vocalization-segmentation) and Robert Lachlan's de-echoing method in [Luscinia](https://rflachlan.github.io/Luscinia/))."
            ]
        },
        {
            "cell_type": "code",
            "execution_count": 3,
            "metadata": {
                "tags": [
                    "hide-output"
                ]
            },
            "outputs": [
                {
                    "data": {
                        "application/vnd.jupyter.widget-view+json": {
                            "model_id": "35cdbc80c05f4b37b3e965dd28863c27",
                            "version_major": 2,
                            "version_minor": 0
                        },
                        "text/plain": [
                            "Finding units in vocalisations:   0%|          | 0/10 [00:00<?, ?it/s]"
                        ]
                    },
                    "metadata": {},
                    "output_type": "display_data"
                },
                {
                    "name": "stdout",
                    "output_type": "stream",
                    "text": [
                        "Found and segmented 169 units.\n"
                    ]
                },
                {
                    "data": {
                        "image/png": "[encoded data removed]",
                        "text/plain": [
                            "<Figure size 616.32x322.56 with 1 Axes>"
                        ]
                    },
                    "metadata": {},
                    "output_type": "display_data"
                }
            ],
            "source": [
                "# Segment:\n",
                "dataset.segment_into_units()\n",
                "\n",
                "# Plot an example:\n",
                "for vocalisation in dataset.vocs.index[:1]:\n",
                "    dataset.plot_segments(vocalisation)"
            ]
        },
        {
            "cell_type": "markdown",
            "metadata": {},
            "source": [
                "Next, you can create spectrogram representations of the units or the average of the units present in the vocalisations of each individual ID in the dataset, project and cluster them, and prepare compressed representations that can be used with the interactive app:"
            ]
        },
        {
            "cell_type": "code",
            "execution_count": 4,
            "metadata": {
                "tags": [
                    "hide-output"
                ]
            },
            "outputs": [
                {
                    "data": {
                        "application/vnd.jupyter.widget-view+json": {
                            "model_id": "33261064b92c4d01955408cdb6272df5",
                            "version_major": 2,
                            "version_minor": 0
                        },
                        "text/plain": [
                            "Calculating and saving unit spectrograms:   0%|          | 0/1 [00:00<?, ?it/s]"
                        ]
                    },
                    "metadata": {},
                    "output_type": "display_data"
                },
                {
                    "name": "stdout",
                    "output_type": "stream",
                    "text": [
                        "Found 1 individual IDs. They will be processed in 1 chunks of length 1.\n"
                    ]
                },
                {
                    "data": {
                        "application/vnd.jupyter.widget-view+json": {
                            "model_id": "1501e34d42ab4c1e89f5f45cce8854b8",
                            "version_major": 2,
                            "version_minor": 0
                        },
                        "text/plain": [
                            "Projecting and clustering vocalisations:   0%|          | 0/1 [00:00<?, ?it/s]"
                        ]
                    },
                    "metadata": {},
                    "output_type": "display_data"
                },
                {
                    "data": {
                        "application/vnd.jupyter.widget-view+json": {
                            "model_id": "0f6259c95b67448994402ca1d1a99812",
                            "version_major": 2,
                            "version_minor": 0
                        },
                        "text/plain": [
                            "Initiate: Prepare interactive visualisation:   0%|          | 0/1 [00:00<?, ?it/s]"
                        ]
                    },
                    "metadata": {},
                    "output_type": "display_data"
                },
                {
                    "data": {
                        "application/vnd.jupyter.widget-view+json": {
                            "model_id": "e20c6bde2ffc4ea392ed3334af4343e7",
                            "version_major": 2,
                            "version_minor": 0
                        },
                        "text/plain": [
                            "Prepare interactive visualisation:   0%|          | 0/1 [00:00<?, ?it/s]"
                        ]
                    },
                    "metadata": {},
                    "output_type": "display_data"
                }
            ],
            "source": [
                "dataset.get_units()\n",
                "dataset.cluster_ids(min_sample=5)\n",
                "dataset.prepare_interactive_data()"
            ]
        },
        {
            "cell_type": "markdown",
            "metadata": {},
            "source": [
                "Now you can start the interactive app on your browser by simply running `dataset.open_label_app()`."
            ]
        },
        {
            "cell_type": "markdown",
            "metadata": {},
            "source": [
                "There are not enough data in this minimal dataset to show how the app works - clustering doesn't work well with such small sample sizes. Here is a gif showing how it would look with real data from these birds:\n",
                "\n",
                "![label app demo](../custom/labelapp.gif)"
            ]
        },
        {
            "cell_type": "markdown",
            "metadata": {},
            "source": [
                "Once you are done checking the automatically assigned labels you need to reload the dataset:"
            ]
        },
        {
            "cell_type": "code",
            "execution_count": 5,
            "metadata": {},
            "outputs": [],
            "source": [
                "dataset = dataset.reload()"
            ]
        },
        {
            "cell_type": "markdown",
            "metadata": {},
            "source": [
                "Now you have a dataset containing the raw audio files, their spectrogram representations, onset and offset times, and element/song type labels. Happy sciencing!"
            ]
        }
    ],
    "metadata": {
        "interpreter": {
            "hash": "9b97ee16365f5d5f76540b5681d8285b31428be7335efa9f541b550d84bc67ff"
        },
        "kernelspec": {
            "display_name": "Python 3.8.0 ('pykanto-test')",
            "language": "python",
            "name": "python3"
        },
        "language_info": {
            "codemirror_mode": {
                "name": "ipython",
                "version": 3
            },
            "file_extension": ".py",
            "mimetype": "text/x-python",
            "name": "python",
            "nbconvert_exporter": "python",
            "pygments_lexer": "ipython3",
            "version": "3.8.0"
        },
        "orig_nbformat": 4
    },
    "nbformat": 4,
    "nbformat_minor": 2
}