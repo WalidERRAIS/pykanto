{
 "cells": [
  {
   "cell_type": "markdown",
   "metadata": {},
   "source": [
    "# File segmentation"
   ]
  },
  {
   "cell_type": "markdown",
   "metadata": {},
   "source": [
    "## Segmenting files with custom metadata fields"
   ]
  },
  {
   "cell_type": "markdown",
   "metadata": {
    "tags": [
     "hide-output"
    ]
   },
   "source": [
    "\n",
    "Let's say you are using\n",
    "[AudioMoth](https://www.openacousticdevices.info/audiomoth) recorders and want\n",
    "to retrieve some non-standard metadata from its audio files: (1) the device ID,\n",
    "and (2) the date and time time of an audio segment.\n",
    "\n",
    "Here's how you can do it:"
   ]
  },
  {
   "cell_type": "code",
   "execution_count": 1,
   "metadata": {
    "tags": [
     "hide-output",
     "hide-input"
    ]
   },
   "outputs": [],
   "source": [
    "import datetime as dt\n",
    "import re\n",
    "from typing import Any, Dict\n",
    "import attr\n",
    "from attr import validators\n",
    "from dateutil.parser import parse\n",
    "from pykanto.signal.segment import ReadWav, SegmentMetadata, segment_files\n",
    "from pykanto.utils.custom import parse_sonic_visualiser_xml\n",
    "from pykanto.utils.paths import (get_file_paths, get_wavs_w_annotation,\n",
    "                                 pykanto_data)\n",
    "from pykanto.utils.types import Annotation\n",
    "from pykanto.utils.write import makedir"
   ]
  },
  {
   "cell_type": "markdown",
   "metadata": {},
   "source": [
    "First, to make it easier to see what fields are available you can create a\n",
    "`ReadWav` object from a file and print its metadata, like so:"
   ]
  },
  {
   "cell_type": "code",
   "execution_count": 2,
   "metadata": {
    "tags": [
     "hide-output"
    ]
   },
   "outputs": [
    {
     "name": "stdout",
     "output_type": "stream",
     "text": [
      "<WAVE({\n",
      "    'filepath': '/home/nilomr/projects/pykanto/pykanto/data/raw/AM/20210502_040000.WAV',\n",
      "    'filesize': '92.23 KiB',\n",
      "    'pictures': [],\n",
      "    'streaminfo': <WAVEStreamInfo({\n",
      "        'audio_format': <WAVEAudioFormat.PCM>,\n",
      "        'bit_depth': 16,\n",
      "        'bitrate': '768 Kbps',\n",
      "        'channels': 1,\n",
      "        'duration': '00:01',\n",
      "        'sample_rate': '48.0 KHz',\n",
      "    })>,\n",
      "    'tags': <RIFFTags({\n",
      "        'ISFT': ['Lavf57.83.100'],\n",
      "        'artist': ['AudioMoth 247AA5075E06337D'],\n",
      "        'comment': [\n",
      "            'Recorded at 04:00:00 02/05/2021 (UTC) by AudioMoth 247AA5075E06337D at gain setting 2 while battery state was 4.2V.',\n",
      "        ],\n",
      "    })>,\n",
      "})>\n"
     ]
    }
   ],
   "source": [
    "# Loads a sample AudioMoth file, included with pykanto\n",
    "DIRS = pykanto_data(dataset=\"AM\")\n",
    "\n",
    "wav_dirs = get_file_paths(DIRS.RAW_DATA, extensions=['.WAV'])\n",
    "meta = ReadWav(wav_dirs[0]).all_metadata\n",
    "print(meta)"
   ]
  },
  {
   "cell_type": "markdown",
   "metadata": {},
   "source": [
    "Now let's acess the metadata of interest and tell `pykanto` that we want to add\n",
    "these to the .JSON files and, later, to our database.\n",
    "\n",
    "First, add any new attributes, along with their data type annotations and any\n",
    "validators to the Annotation class. This will make sure that your new\n",
    "attributes, or fields, are properly parsed."
   ]
  },
  {
   "cell_type": "code",
   "execution_count": 3,
   "metadata": {
    "tags": [
     "hide-output"
    ]
   },
   "outputs": [],
   "source": [
    "@attr.s\n",
    "class CustomAnnotation(Annotation):\n",
    "    rec_unit: str = attr.ib(validator=validators.instance_of(str))\n",
    "    # This is intended as a short example, but in reality you could make sure that\n",
    "    # this string can be parsed as a datetime object.\n",
    "    datetime: str = attr.ib(validator=validators.instance_of(str))\n",
    "\n",
    "Annotation.__init__ = CustomAnnotation.__init__"
   ]
  },
  {
   "cell_type": "markdown",
   "metadata": {},
   "source": [
    "Then, [monkey-patch](https://en.wikipedia.org/wiki/Monkey_patch) the\n",
    "`get_metadata` methods of the ReadWav and SegmentMetadata classes to add any\n",
    "extra fields that your project might require. This will save you from having to\n",
    "define the full classes and their methods again from scratch. Some people would\n",
    "say this is ugly, and I'd tend to agree, but it is the most concise way of doing\n",
    "this that I could think of that preserves enough flexibility."
   ]
  },
  {
   "cell_type": "code",
   "execution_count": 4,
   "metadata": {
    "tags": [
     "hide-output"
    ]
   },
   "outputs": [],
   "source": [
    "def ReadWav_patch(self) -> Dict[str, Any]:\n",
    "    comment = self.all_metadata['tags'].comment[0]\n",
    "    add_to_dict = {\n",
    "        'rec_unit': str(re.search(r\"AudioMoth.(.*?) at gain\", comment).group(1)),\n",
    "        'datetime': str(parse(re.search(r\"at.(.*?) \\(UTC\\)\", comment).group(1)))\n",
    "    }\n",
    "    return {**self.metadata.__dict__, **add_to_dict}\n",
    "\n",
    "\n",
    "def SegmentMetadata_patch(self) -> Dict[str, Any]:\n",
    "    start = self.all_metadata.start_times[self.index] / self.all_metadata.sample_rate\n",
    "    datetime = parse(self.all_metadata.datetime) + dt.timedelta(seconds=start)\n",
    "    add_to_dict = {\n",
    "        'rec_unit': self.all_metadata.rec_unit,\n",
    "        'datetime': str(datetime),\n",
    "    }\n",
    "    return {**self.metadata.__dict__, **add_to_dict}\n",
    "\n",
    "\n",
    "ReadWav.get_metadata = ReadWav_patch\n",
    "SegmentMetadata.get_metadata = SegmentMetadata_patch"
   ]
  },
  {
   "cell_type": "markdown",
   "metadata": {},
   "source": [
    "Now you can segment your annotated files like you would normally do - their\n",
    "metadata will contain your custom fields."
   ]
  },
  {
   "cell_type": "code",
   "execution_count": 5,
   "metadata": {},
   "outputs": [
    {
     "data": {
      "application/vnd.jupyter.widget-view+json": {
       "model_id": "c33391615a0546d59989d567044dc567",
       "version_major": 2,
       "version_minor": 0
      },
      "text/plain": [
       "Finding and saving audio segments and their metadata:   0%|          | 0/1 [00:00<?, ?it/s]"
      ]
     },
     "metadata": {},
     "output_type": "display_data"
    }
   ],
   "source": [
    "wav_filepaths, xml_filepaths = [get_file_paths(\n",
    "    DIRS.RAW_DATA, [ext]) for ext in ['.WAV', '.xml']]\n",
    "files_to_segment = get_wavs_w_annotation(wav_filepaths, xml_filepaths)\n",
    "\n",
    "wav_outdir, json_outdir = [makedir(DIRS.SEGMENTED / ext)\n",
    "                           for ext in [\"WAV\", \"JSON\"]]\n",
    "\n",
    "segment_files(\n",
    "    files_to_segment,\n",
    "    wav_outdir,\n",
    "    json_outdir,\n",
    "    parser_func=parse_sonic_visualiser_xml\n",
    ")"
   ]
  },
  {
   "cell_type": "markdown",
   "metadata": {},
   "source": [
    "Note: if you want to run this in paralell with ray (as in\n",
    "`segment_files_parallel`) monkey-patching will not work: for now, you will have\n",
    "to properly extend `ReadWav` and `SegmentMetadata`."
   ]
  }
 ],
 "metadata": {
  "interpreter": {
   "hash": "9b97ee16365f5d5f76540b5681d8285b31428be7335efa9f541b550d84bc67ff"
  },
  "kernelspec": {
   "display_name": "Python 3.8.0 ('pykanto-test')",
   "language": "python",
   "name": "python3"
  },
  "language_info": {
   "codemirror_mode": {
    "name": "ipython",
    "version": 3
   },
   "file_extension": ".py",
   "mimetype": "text/x-python",
   "name": "python",
   "nbconvert_exporter": "python",
   "pygments_lexer": "ipython3",
   "version": "3.8.0"
  },
  "widgets": {
   "application/vnd.jupyter.widget-state+json": {
    "state": {
     "347076a0df104a0bbed298faf0d1f3fe": {
      "model_module": "@jupyter-widgets/controls",
      "model_module_version": "1.5.0",
      "model_name": "FloatProgressModel",
      "state": {
       "_dom_classes": [],
       "_model_module": "@jupyter-widgets/controls",
       "_model_module_version": "1.5.0",
       "_model_name": "FloatProgressModel",
       "_view_count": null,
       "_view_module": "@jupyter-widgets/controls",
       "_view_module_version": "1.5.0",
       "_view_name": "ProgressView",
       "bar_style": "success",
       "description": "",
       "description_tooltip": null,
       "layout": "IPY_MODEL_bc924db4dd8b4e88b0c8b2e06ddac5f7",
       "max": 1.0,
       "min": 0.0,
       "orientation": "horizontal",
       "style": "IPY_MODEL_4ae8961ce10248cfa3b423efe54660e4",
       "value": 1.0
      }
     },
     "4ae8961ce10248cfa3b423efe54660e4": {
      "model_module": "@jupyter-widgets/controls",
      "model_module_version": "1.5.0",
      "model_name": "ProgressStyleModel",
      "state": {
       "_model_module": "@jupyter-widgets/controls",
       "_model_module_version": "1.5.0",
       "_model_name": "ProgressStyleModel",
       "_view_count": null,
       "_view_module": "@jupyter-widgets/base",
       "_view_module_version": "1.2.0",
       "_view_name": "StyleView",
       "bar_color": null,
       "description_width": ""
      }
     },
     "612687fc39a944d4930fd5d88e1daaa5": {
      "model_module": "@jupyter-widgets/base",
      "model_module_version": "1.2.0",
      "model_name": "LayoutModel",
      "state": {
       "_model_module": "@jupyter-widgets/base",
       "_model_module_version": "1.2.0",
       "_model_name": "LayoutModel",
       "_view_count": null,
       "_view_module": "@jupyter-widgets/base",
       "_view_module_version": "1.2.0",
       "_view_name": "LayoutView",
       "align_content": null,
       "align_items": null,
       "align_self": null,
       "border": null,
       "bottom": null,
       "display": null,
       "flex": null,
       "flex_flow": null,
       "grid_area": null,
       "grid_auto_columns": null,
       "grid_auto_flow": null,
       "grid_auto_rows": null,
       "grid_column": null,
       "grid_gap": null,
       "grid_row": null,
       "grid_template_areas": null,
       "grid_template_columns": null,
       "grid_template_rows": null,
       "height": null,
       "justify_content": null,
       "justify_items": null,
       "left": null,
       "margin": null,
       "max_height": null,
       "max_width": null,
       "min_height": null,
       "min_width": null,
       "object_fit": null,
       "object_position": null,
       "order": null,
       "overflow": null,
       "overflow_x": null,
       "overflow_y": null,
       "padding": null,
       "right": null,
       "top": null,
       "visibility": null,
       "width": null
      }
     },
     "6e451abbfbbb48709f837ae931f3e47a": {
      "model_module": "@jupyter-widgets/controls",
      "model_module_version": "1.5.0",
      "model_name": "DescriptionStyleModel",
      "state": {
       "_model_module": "@jupyter-widgets/controls",
       "_model_module_version": "1.5.0",
       "_model_name": "DescriptionStyleModel",
       "_view_count": null,
       "_view_module": "@jupyter-widgets/base",
       "_view_module_version": "1.2.0",
       "_view_name": "StyleView",
       "description_width": ""
      }
     },
     "96e26209b6a04dfb9e70c35a8fe24176": {
      "model_module": "@jupyter-widgets/base",
      "model_module_version": "1.2.0",
      "model_name": "LayoutModel",
      "state": {
       "_model_module": "@jupyter-widgets/base",
       "_model_module_version": "1.2.0",
       "_model_name": "LayoutModel",
       "_view_count": null,
       "_view_module": "@jupyter-widgets/base",
       "_view_module_version": "1.2.0",
       "_view_name": "LayoutView",
       "align_content": null,
       "align_items": null,
       "align_self": null,
       "border": null,
       "bottom": null,
       "display": null,
       "flex": null,
       "flex_flow": null,
       "grid_area": null,
       "grid_auto_columns": null,
       "grid_auto_flow": null,
       "grid_auto_rows": null,
       "grid_column": null,
       "grid_gap": null,
       "grid_row": null,
       "grid_template_areas": null,
       "grid_template_columns": null,
       "grid_template_rows": null,
       "height": null,
       "justify_content": null,
       "justify_items": null,
       "left": null,
       "margin": null,
       "max_height": null,
       "max_width": null,
       "min_height": null,
       "min_width": null,
       "object_fit": null,
       "object_position": null,
       "order": null,
       "overflow": null,
       "overflow_x": null,
       "overflow_y": null,
       "padding": null,
       "right": null,
       "top": null,
       "visibility": null,
       "width": null
      }
     },
     "bc924db4dd8b4e88b0c8b2e06ddac5f7": {
      "model_module": "@jupyter-widgets/base",
      "model_module_version": "1.2.0",
      "model_name": "LayoutModel",
      "state": {
       "_model_module": "@jupyter-widgets/base",
       "_model_module_version": "1.2.0",
       "_model_name": "LayoutModel",
       "_view_count": null,
       "_view_module": "@jupyter-widgets/base",
       "_view_module_version": "1.2.0",
       "_view_name": "LayoutView",
       "align_content": null,
       "align_items": null,
       "align_self": null,
       "border": null,
       "bottom": null,
       "display": null,
       "flex": null,
       "flex_flow": null,
       "grid_area": null,
       "grid_auto_columns": null,
       "grid_auto_flow": null,
       "grid_auto_rows": null,
       "grid_column": null,
       "grid_gap": null,
       "grid_row": null,
       "grid_template_areas": null,
       "grid_template_columns": null,
       "grid_template_rows": null,
       "height": null,
       "justify_content": null,
       "justify_items": null,
       "left": null,
       "margin": null,
       "max_height": null,
       "max_width": null,
       "min_height": null,
       "min_width": null,
       "object_fit": null,
       "object_position": null,
       "order": null,
       "overflow": null,
       "overflow_x": null,
       "overflow_y": null,
       "padding": null,
       "right": null,
       "top": null,
       "visibility": null,
       "width": null
      }
     },
     "c33391615a0546d59989d567044dc567": {
      "model_module": "@jupyter-widgets/controls",
      "model_module_version": "1.5.0",
      "model_name": "HBoxModel",
      "state": {
       "_dom_classes": [],
       "_model_module": "@jupyter-widgets/controls",
       "_model_module_version": "1.5.0",
       "_model_name": "HBoxModel",
       "_view_count": null,
       "_view_module": "@jupyter-widgets/controls",
       "_view_module_version": "1.5.0",
       "_view_name": "HBoxView",
       "box_style": "",
       "children": [
        "IPY_MODEL_c6664e5ef05e41e188c80ce5a9491276",
        "IPY_MODEL_347076a0df104a0bbed298faf0d1f3fe",
        "IPY_MODEL_d6d3d493294f4eb6b78a2d3c9389bf58"
       ],
       "layout": "IPY_MODEL_e0fbd0ee2ef743cabd60208d61c381c8"
      }
     },
     "c6664e5ef05e41e188c80ce5a9491276": {
      "model_module": "@jupyter-widgets/controls",
      "model_module_version": "1.5.0",
      "model_name": "HTMLModel",
      "state": {
       "_dom_classes": [],
       "_model_module": "@jupyter-widgets/controls",
       "_model_module_version": "1.5.0",
       "_model_name": "HTMLModel",
       "_view_count": null,
       "_view_module": "@jupyter-widgets/controls",
       "_view_module_version": "1.5.0",
       "_view_name": "HTMLView",
       "description": "",
       "description_tooltip": null,
       "layout": "IPY_MODEL_96e26209b6a04dfb9e70c35a8fe24176",
       "placeholder": "​",
       "style": "IPY_MODEL_c8ad528475e54cd6b6bba8c20bd1ea8e",
       "value": "Finding and saving audio segments and their metadata: 100%"
      }
     },
     "c8ad528475e54cd6b6bba8c20bd1ea8e": {
      "model_module": "@jupyter-widgets/controls",
      "model_module_version": "1.5.0",
      "model_name": "DescriptionStyleModel",
      "state": {
       "_model_module": "@jupyter-widgets/controls",
       "_model_module_version": "1.5.0",
       "_model_name": "DescriptionStyleModel",
       "_view_count": null,
       "_view_module": "@jupyter-widgets/base",
       "_view_module_version": "1.2.0",
       "_view_name": "StyleView",
       "description_width": ""
      }
     },
     "d6d3d493294f4eb6b78a2d3c9389bf58": {
      "model_module": "@jupyter-widgets/controls",
      "model_module_version": "1.5.0",
      "model_name": "HTMLModel",
      "state": {
       "_dom_classes": [],
       "_model_module": "@jupyter-widgets/controls",
       "_model_module_version": "1.5.0",
       "_model_name": "HTMLModel",
       "_view_count": null,
       "_view_module": "@jupyter-widgets/controls",
       "_view_module_version": "1.5.0",
       "_view_name": "HTMLView",
       "description": "",
       "description_tooltip": null,
       "layout": "IPY_MODEL_612687fc39a944d4930fd5d88e1daaa5",
       "placeholder": "​",
       "style": "IPY_MODEL_6e451abbfbbb48709f837ae931f3e47a",
       "value": " 1/1 [00:00&lt;00:00,  2.68it/s]"
      }
     },
     "e0fbd0ee2ef743cabd60208d61c381c8": {
      "model_module": "@jupyter-widgets/base",
      "model_module_version": "1.2.0",
      "model_name": "LayoutModel",
      "state": {
       "_model_module": "@jupyter-widgets/base",
       "_model_module_version": "1.2.0",
       "_model_name": "LayoutModel",
       "_view_count": null,
       "_view_module": "@jupyter-widgets/base",
       "_view_module_version": "1.2.0",
       "_view_name": "LayoutView",
       "align_content": null,
       "align_items": null,
       "align_self": null,
       "border": null,
       "bottom": null,
       "display": null,
       "flex": null,
       "flex_flow": null,
       "grid_area": null,
       "grid_auto_columns": null,
       "grid_auto_flow": null,
       "grid_auto_rows": null,
       "grid_column": null,
       "grid_gap": null,
       "grid_row": null,
       "grid_template_areas": null,
       "grid_template_columns": null,
       "grid_template_rows": null,
       "height": null,
       "justify_content": null,
       "justify_items": null,
       "left": null,
       "margin": null,
       "max_height": null,
       "max_width": null,
       "min_height": null,
       "min_width": null,
       "object_fit": null,
       "object_position": null,
       "order": null,
       "overflow": null,
       "overflow_x": null,
       "overflow_y": null,
       "padding": null,
       "right": null,
       "top": null,
       "visibility": null,
       "width": null
      }
     }
    },
    "version_major": 2,
    "version_minor": 0
   }
  }
 },
 "nbformat": 4,
 "nbformat_minor": 2
}